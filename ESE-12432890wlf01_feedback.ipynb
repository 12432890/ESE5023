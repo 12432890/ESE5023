{
 "cells": [
  {
   "cell_type": "markdown",
   "id": "fba9033b",
   "metadata": {},
   "source": [
    "### Score: `[106]`\n",
    "\n",
    "Q1. `[11]` Very good job!\n",
    "\n",
    "Q2. `[11]` Very good job!\n",
    "\n",
    "Q3. `[16.5+5.5]` 很棒的代码！\n",
    "\n",
    "Q4. `[5.5+13+5]` 4.2用了数学的思想，但是缺失了求均值这一步。\n",
    "\n",
    "Q5. `[5.5+27.5+5.5]` Quite great job!\n",
    "\n",
    "各题注释用`### Note`给出，请自行查阅。"
   ]
  },
  {
   "cell_type": "markdown",
   "id": "7968edcb-7f08-49d3-aeb8-783efc4dc59d",
   "metadata": {},
   "source": [
    "1. Flowchart\n",
    "Write a function Print_values with arguments a, b, and c to reflect the following flowchart. Here the purple parallelogram operator on a list [x, y, z] is to compute and print x+y-10z. Try your output with some random a, b, and c values. Report your output when a = 10, b = 5, c = 1."
   ]
  },
  {
   "cell_type": "code",
   "execution_count": 5,
   "id": "db02e409-2ead-44ed-ad71-3831f2a542ed",
   "metadata": {},
   "outputs": [
    {
     "name": "stdout",
     "output_type": "stream",
     "text": [
      "5\n"
     ]
    }
   ],
   "source": [
    "def Print_values(a,b,c): \n",
    "    if a > b: \n",
    "        if b > c: \n",
    "            result = a + b - 10 * c\n",
    "            print(result)\n",
    "        else: \n",
    "            if a > c: \n",
    "                result = a + c - 10 * b\n",
    "                print(result)\n",
    "            else: \n",
    "                result = c + a - 10 * b\n",
    "                print(result)\n",
    " \n",
    "    else: \n",
    "        if b > c: \n",
    "            print() \n",
    "        else: \n",
    "            result = c + b - 10 * a\n",
    "            print(result)\n",
    "\n",
    "Print_values(10, 5, 1)"
   ]
  },
  {
   "cell_type": "markdown",
   "id": "b68cde89-da02-4b56-9e68-7301db7a32be",
   "metadata": {},
   "source": [
    "对于 Print_values(10, 5, 1) 的调用，执行流程如下：\n",
    "比较 a 和 b，即 10 > 5进入，比较 b 和 c，即 5 > 1，为真，执行 result = 10 + 5 - 10 * 1。\n",
    "计算 result 的值，得到 15 - 10 = 5。\n",
    "打印 result 的值，即打印 5"
   ]
  },
  {
   "cell_type": "markdown",
   "id": "dc501456-3ef3-495c-9322-58e4188d5907",
   "metadata": {},
   "source": [
    "2. Continuous ceiling function\n",
    "Given a list with N positive integers. For every element x of the list, find the value of continuous ceiling function defined as F(x) = F(ceil(x/3)) + 2x, where F(1) = 1."
   ]
  },
  {
   "cell_type": "code",
   "execution_count": 13,
   "id": "2b9675b8-d56c-45ab-9df7-fdc4e47228b5",
   "metadata": {},
   "outputs": [
    {
     "name": "stdout",
     "output_type": "stream",
     "text": [
      "[7, 13, 15, 17, 21, 23, 25, 33]\n"
     ]
    }
   ],
   "source": [
    "import math\n",
    "\n",
    "def F(x):\n",
    "    # Base case\n",
    "    if x == 1:\n",
    "        return 1\n",
    "    # Recursive case\n",
    "    else:\n",
    "        return F(math.ceil(x / 3)) + 2 * x\n",
    "\n",
    "def compute_values(numbers):\n",
    "    return [F(x) for x in numbers]\n",
    "\n",
    "# Example list of positive integers\n",
    "numbers = [3, 4, 5, 6, 7, 8, 9, 10]\n",
    "results = compute_values(numbers)\n",
    "print(results)"
   ]
  },
  {
   "cell_type": "markdown",
   "id": "277d0630-1ca0-4586-b6b4-4768136fe749",
   "metadata": {},
   "source": [
    "compute_values(numbers) 被调用，并传入 numbers 列表。\n",
    "对于 numbers 列表中的每个数字，F(x) 会被调用。\n",
    "F(x) 会根据 x 的值递归地调用自身，直到达到基本情况 x == 1。\n",
    "每次递归调用都会返回一个值，这个值加上 2 * x 作为结果。\n",
    "最终，compute_values(numbers) 返回一个包算结。.。果的列表"
   ]
  },
  {
   "cell_type": "markdown",
   "id": "5fdf7c31-8ffe-4e78-a9e5-5f73b09af490",
   "metadata": {},
   "source": [
    "3.1 Given 10 dice each with 6 faces, numbered from 1 to 6. Write a function Find_number_of_ways to find the number of ways to get sum x, defined as the sum of values on each face when all the dice are thrown.\n",
    "3.2 Count the number of ways for any x from 10 to 60, assign the number of ways to a list called Number_of_ways, so which x yields the maximum of Number_of_ways?"
   ]
  },
  {
   "cell_type": "code",
   "execution_count": 2,
   "id": "3c3418ac-0b12-4307-99f1-d6fd1ad0672b",
   "metadata": {},
   "outputs": [
    {
     "name": "stdout",
     "output_type": "stream",
     "text": [
      "10\n",
      "总和 35 产生了最多的方法数，共有 4395456 种方法。\n"
     ]
    }
   ],
   "source": [
    "# 3.1\n",
    "def Find_number_of_ways(dice_count, target_sum):\n",
    "    dp = [[0 for _ in range(target_sum + 1)] for _ in range(dice_count + 1)]\n",
    "    # 基本情况：只有一个骰子时，每个面值的方法数都是1\n",
    "    for i in range(1, 7):\n",
    "        dp[1][i] = 1\n",
    "    \n",
    "     # 填充动态规划表\n",
    "    for i in range(2, dice_count + 1):\n",
    "        for j in range(1, target_sum + 1):\n",
    "            for k in range(1, 7):\n",
    "                if j >= k:\n",
    "                    dp[i][j] += dp[i - 1][j - k]\n",
    "    return dp[dice_count][target_sum]\n",
    "\n",
    "# 3.2\n",
    "# 初始化一个列表来存储每个总和的方法数\n",
    "Number_of_ways = []\n",
    "\n",
    "# 计算从10到60每个总和的方法数，并存储在列表中\n",
    "for x in range(10, 61):\n",
    "    ways = Find_number_of_ways(10, x)\n",
    "    Number_of_ways.append(ways)\n",
    "\n",
    "max_ways = max(Number_of_ways)\n",
    "max_index = Number_of_ways.index(max_ways) + 10  \n",
    "\n",
    "print(f\"总和 {max_index} 产生了最多的方法数，共有 {max_ways} 种方法。\")"
   ]
  },
  {
   "cell_type": "code",
   "execution_count": null,
   "id": "d04a3c9f-6159-41c9-9cad-2328ad91759d",
   "metadata": {},
   "outputs": [],
   "source": [
    "#初始化一个二维数组 dp，其中 dp[i][j] 表示使用 i 个骰子得到总和 j 的方法数。\n",
    "#第一层循环初始化基本情况：当只有一个骰子时，每个面值（1到6）的方法数都是1。\n",
    "#第二层和第三层循环填充动态规划表。对于每个骰子数 i 和每个可能的总和 j，遍历所有可能的骰子面值 k，并将之前计算的结果累加到当前的总和方法数上。\n",
    "#初始化一个空列表 Number_of_ways。\n",
    "#使用一个循环，计算从10到60每个总和使用10个骰子得到的方法数，并将结果添加到列表中。\n",
    "#使用 max 函数找出列表中的最大值，即最可能的总和。\n",
    "#使用 index 方法找到最大值在列表中的位置，然后加上10（因为列表索引从0开始，而总和从10开始）以得到实际的总和值。\n",
    "#打印出哪个总和产生了最多的方法数以及该数目"
   ]
  },
  {
   "cell_type": "markdown",
   "id": "dbb26ffb-f221-4361-bb62-e5c03864920d",
   "metadata": {},
   "source": [
    "4.1 Write a function Random_integer to fill an array of N elements by randomly selecting integers from 0 to 10."
   ]
  },
  {
   "cell_type": "code",
   "execution_count": 1,
   "id": "794ac28b-13be-41f7-bf5f-8431f3482513",
   "metadata": {},
   "outputs": [
    {
     "name": "stdout",
     "output_type": "stream",
     "text": [
      "[8, 7, 6, 5, 6]\n"
     ]
    }
   ],
   "source": [
    "# 4.1\n",
    "import random\n",
    "\n",
    "def Random_integer(N):\n",
    "    # 创建一个空数组，用于存储随机整数\n",
    "    array = []\n",
    "    \n",
    "    # 循环 N 次，每次循环生成一个随机整数并添加到数组中\n",
    "    for _ in range(N):\n",
    "        # random.randint(a, b) 会生成一个在 a 和 b 之间（包括 a 和 b）的随机整数\n",
    "        rand_num = random.randint(0, 10)\n",
    "        array.append(rand_num)  # 将生成的随机整数添加到数组中\n",
    "    \n",
    "    return array  # 返回填充了随机整数的数组\n",
    "\n",
    "# 调用函数并打印结果，例如填充一个包含 5 个元素的数组\n",
    "print(Random_integer(5))"
   ]
  },
  {
   "cell_type": "markdown",
   "id": "1c97dbce-cd29-41c1-b5a4-2a4b369e029e",
   "metadata": {},
   "source": [
    "4.2  Write a function Sum_averages to compute the sum of the average of all subsets of the array. For example, given an array of [1, 2, 3], you Sum_averages function should compute the sum of: average of [1], average of [2], average of [3], average of [1, 2], average of [1, 3], average of [2, 3], and average of [1, 2, 3]."
   ]
  },
  {
   "cell_type": "code",
   "execution_count": 2,
   "id": "afde62a2-a229-4509-855b-8cf5589794da",
   "metadata": {},
   "outputs": [
    {
     "name": "stdout",
     "output_type": "stream",
     "text": [
      "24\n"
     ]
    }
   ],
   "source": [
    "# 4.2\n",
    "def Sum_averages(arr):\n",
    "    # 数组长度\n",
    "    n = len(arr)\n",
    "    \n",
    "    # 计算每个元素在所有子集中出现的次数\n",
    "    # 对于任何元素 arr[i]，它在 2^(n-1) 个子集中出现\n",
    "    # 这是因为对于除 arr[i] 之外的每个元素，都有两种选择：在子集中或不在子集中\n",
    "    element_count = 2 ** (n - 1)\n",
    "    \n",
    "    # 计算所有子集的平均值之和\n",
    "    # 我们可以简化计算过程，因为每个元素 arr[i] 出现的次数相同\n",
    "    # 因此，总和可以表示为：element_count * (所有元素的求和)\n",
    "    total_sum = sum(arr)\n",
    "    sum_of_averages = element_count * total_sum\n",
    "    \n",
    "    return sum_of_averages\n",
    "\n",
    "print(Sum_averages([1, 2, 3]))\n",
    "### Note: 缺失了均值处理的部分"
   ]
  },
  {
   "cell_type": "markdown",
   "id": "56196445-a2a8-4ab6-8f95-6e48d175ffe7",
   "metadata": {},
   "source": [
    "4.3 Call Sum_averages with N increasing from 1 to 100, assign the output to a list called Total_sum_averages. Plot Total_sum_averages, describe what you see."
   ]
  },
  {
   "cell_type": "code",
   "execution_count": 8,
   "id": "71bce0dd-a96f-45a6-82b6-6655f6ded63c",
   "metadata": {},
   "outputs": [
    {
     "data": {
      "image/png": "[encoded data removed]",
      "text/plain": [
       "<Figure size 1000x600 with 1 Axes>"
      ]
     },
     "metadata": {},
     "output_type": "display_data"
    }
   ],
   "source": [
    "# 4.3\n",
    "import matplotlib.pyplot as plt\n",
    "\n",
    "# 定义函数 Sum_averages\n",
    "def Sum_averages(arr):\n",
    "    n = len(arr)\n",
    "    element_count = 2 ** (n - 1)\n",
    "    total_sum = sum(arr)\n",
    "    sum_of_averages = element_count * total_sum\n",
    "    return sum_of_averages\n",
    "\n",
    "# 计算N从1到100的Total_sum_averages\n",
    "Total_sum_averages = [Sum_averages(list(range(1, i+1))) for i in range(1, 101)]\n",
    "\n",
    "# 绘制Total_sum_averages\n",
    "plt.figure(figsize=(10, 6))\n",
    "plt.plot(Total_sum_averages, marker='o')\n",
    "plt.title(\"Total Sum of Averages vs N\")\n",
    "plt.xlabel(\"N\")\n",
    "plt.ylabel(\"Total Sum of Averages\")\n",
    "plt.grid(True)\n",
    "plt.show()"
   ]
  },
  {
   "cell_type": "markdown",
   "id": "a2edd207-5919-490a-be91-6a636df4ad82",
   "metadata": {},
   "source": [
    "plt.figure(figsize=(10, 6)) 创建了一个新的图形并设置了其大小为10x6英寸。\n",
    "plt.plot(Total_sum_averages, marker='o') 绘制了 Total_sum_averages 的图形，并使用圆圈标记每个数据点。\n",
    "plt.title, plt.xlabel, 和 plt.ylabel 分别设置了图形的标题和坐标轴标签。\n",
    "plt.grid(True) 在图形上添加了网格线。\n",
    "plt.show() 显示了图形。"
   ]
  },
  {
   "cell_type": "markdown",
   "id": "025eff74-c48f-4596-977a-e2b078ef0d7e",
   "metadata": {},
   "source": [
    "5.1 Create a matrix with N rows and M columns, fill the right-bottom corner and top-left corner cells with 1, and randomly fill the rest of matrix with integer 0 or 1."
   ]
  },
  {
   "cell_type": "code",
   "execution_count": 9,
   "id": "cdf586b1-cb73-4146-ae5e-5d95b8425895",
   "metadata": {},
   "outputs": [
    {
     "name": "stdout",
     "output_type": "stream",
     "text": [
      "[[1 1 0 0]\n",
      " [0 1 1 1]\n",
      " [0 1 0 0]\n",
      " [1 1 1 1]\n",
      " [1 0 1 1]]\n"
     ]
    }
   ],
   "source": [
    "import numpy as np\n",
    "\n",
    "def create_matrix(N, M):\n",
    "    matrix = np.zeros((N, M), dtype=int)\n",
    "    \n",
    "    # 填充右下角和左上角的单元格为1\n",
    "    matrix[0, 0] = 1\n",
    "    matrix[N-1, M-1] = 1\n",
    "    \n",
    "    # 随机填充其余的单元格为0或1\n",
    "    for i in range(N):\n",
    "        for j in range(M):\n",
    "            # 跳过已经填充的左上角和右下角单元格\n",
    "            if (i == 0 and j == 0) or (i == N-1 and j == M-1):\n",
    "                continue\n",
    "            matrix[i, j] = np.random.choice([0, 1])\n",
    "    \n",
    "    return matrix\n",
    "\n",
    "# 创建一个示例矩阵，例如5行4列\n",
    "example_matrix = create_matrix(5, 4)\n",
    "print(example_matrix)"
   ]
  },
  {
   "cell_type": "markdown",
   "id": "2aae4ae9-3f32-4bf8-a252-345fcb2e89f9",
   "metadata": {},
   "source": [
    "5.2 Consider a cell marked with 0 as a blockage or dead-end, and a cell marked with 1 is good to go. Write a function Count_path to count the total number of paths to reach the right-bottom corner cell from the top-left corner cell.\n",
    "\n",
    "Notice: for a given cell, you are only allowed to move either rightward or downward.\n",
    "5.3ts] Let N = 10, M = 8, run Count_path for 1000 times, each time the matrix (except the right-bottom corner and top-left corner cells, which remain being 1) is re-filled with integer 0 or 1 randomly, report the mean of total number of paths from the 1000 runs."
   ]
  },
  {
   "cell_type": "code",
   "execution_count": 12,
   "id": "daaec2ec-6259-4c9f-9f94-b4f9519d7aa9",
   "metadata": {},
   "outputs": [
    {
     "name": "stdout",
     "output_type": "stream",
     "text": [
      "0.379\n"
     ]
    }
   ],
   "source": [
    "import random\n",
    "\n",
    "def create_matrix(N, M):\n",
    "    # 创建一个 N 行 M 列的矩阵，并初始化所有元素为 0\n",
    "    matrix = [[0] * M for _ in range(N)]\n",
    "    \n",
    "    # 将左上角和右下角的元素设置为 1\n",
    "    matrix[0][0] = 1\n",
    "    matrix[N-1][M-1] = 1\n",
    "    \n",
    "    # 随机填充矩阵的其余部分\n",
    "    for i in range(N):\n",
    "        for j in range(M):\n",
    "            if i != 0 or j != 0:  # 跳过左上角\n",
    "                if i != N-1 or j != M-1:  # 跳过右下角\n",
    "                    matrix[i][j] = random.choice([0, 1])\n",
    "    return matrix\n",
    "\n",
    "# 5.2\n",
    "def count_paths(matrix):\n",
    "    N = len(matrix)\n",
    "    M = len(matrix[0])\n",
    "    \n",
    "    # 创建一个同样大小的路径计数矩阵，初始所有元素为 0\n",
    "    path_count = [[0] * M for _ in range(N)]\n",
    "    \n",
    "    # 设置左上角的路径计数为 1（如果左上角不是障碍物）\n",
    "    path_count[0][0] = 1\n",
    "    \n",
    "    # 填充第一行的路径计数\n",
    "    for j in range(1, M):\n",
    "        if matrix[0][j] == 1:\n",
    "            path_count[0][j] = path_count[0][j-1]\n",
    "    \n",
    "    # 填充第一列的路径计数\n",
    "    for i in range(1, N):\n",
    "        if matrix[i][0] == 1:\n",
    "            path_count[i][0] = path_count[i-1][0]\n",
    "    \n",
    "    # 填充剩余的路径计数\n",
    "    for i in range(1, N):\n",
    "        for j in range(1, M):\n",
    "            if matrix[i][j] == 1:\n",
    "                path_count[i][j] = path_count[i-1][j] + path_count[i][j-1]\n",
    "    \n",
    "    # 返回右下角的路径计数\n",
    "    return path_count[N-1][M-1]\n",
    "\n",
    "# 5.3\n",
    "N = 10\n",
    "M = 8\n",
    "trials = 1000\n",
    "total_paths = 0\n",
    "\n",
    "for _ in range(trials):\n",
    "    matrix = create_matrix(N, M)\n",
    "    total_paths += count_paths(matrix)\n",
    "\n",
    "mean_paths = total_paths / trials\n",
    "print(mean_paths)"
   ]
  },
  {
   "cell_type": "markdown",
   "id": "47f52645-ce04-459c-9e1c-cdbd67ed14e7",
   "metadata": {},
   "source": [
    "计算输入矩阵的行数和列数。\n",
    "创建一个同样大小的路径计数矩阵 path_count，初始所有元素为 0。\n",
    "设置左上角的路径计数为 1，如果左上角不是障碍物。\n",
    "使用两个循环填充第一行和第一列的路径计数。\n",
    "使用嵌套循环填充剩余部分的路径计数，路径数等于从上方和左方到达当前位置的路径数之和。\n",
    "返回右下角的路径计数，即从左上角到右下角的总路径数。\n",
    "设置矩阵的行数 N 为10、列数 M 为 8 和试验次数 trials 为1000。\n",
    "初始化 total_paths 为 0。\n",
    "进行 1000 次试验，每次试验创建一个矩阵并计算路径数，将结果累加到 total_paths。\n",
    "计算平均路径数 mean_paths"
   ]
  }
 ],
 "metadata": {
  "kernelspec": {
   "display_name": "Python 3 (ipykernel)",
   "language": "python",
   "name": "python3"
  },
  "language_info": {
   "codemirror_mode": {
    "name": "ipython",
    "version": 3
   },
   "file_extension": ".py",
   "mimetype": "text/x-python",
   "name": "python",
   "nbconvert_exporter": "python",
   "pygments_lexer": "ipython3",
   "version": "3.12.4"
  }
 },
 "nbformat": 4,
 "nbformat_minor": 5
}
